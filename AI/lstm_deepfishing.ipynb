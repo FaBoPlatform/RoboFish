{
 "cells": [
  {
   "cell_type": "code",
   "execution_count": 1,
   "metadata": {
    "ExecuteTime": {
     "end_time": "2017-03-10T10:37:42.347143Z",
     "start_time": "2017-03-10T10:37:41.063180Z"
    },
    "collapsed": true,
    "deletable": true,
    "editable": true,
    "run_control": {
     "frozen": false,
     "read_only": false
    }
   },
   "outputs": [],
   "source": [
    "import random\n",
    "from time import time\n",
    "import numpy as np\n",
    "import tensorflow as tf\n",
    "from tensorflow.contrib import rnn\n",
    "from math import sqrt\n",
    "import matplotlib.pyplot as plt\n",
    "\n",
    "%matplotlib inline\n",
    "tf.reset_default_graph()\n",
    "CKPTDIR = \"./ckptdir-test\"\n",
    "\n",
    "LOAD_MODEL = False\n"
   ]
  },
  {
   "cell_type": "code",
   "execution_count": 2,
   "metadata": {
    "ExecuteTime": {
     "end_time": "2017-03-10T10:37:42.937318Z",
     "start_time": "2017-03-10T10:37:42.737060Z"
    },
    "collapsed": false,
    "deletable": true,
    "editable": true,
    "run_control": {
     "frozen": false,
     "marked": true,
     "read_only": false
    }
   },
   "outputs": [],
   "source": [
    "negative_dataset = np.genfromtxt(\"./negative2.csv\", delimiter=',', dtype=[\"S32\", int, \"S32\",float, float, float, float, float, float, float, float, float, int])\n",
    "positive_dataset = np.genfromtxt(\"./positive2.csv\", delimiter=',', dtype=[\"S32\", int, \"S32\",float, float, float, float, float, float, float, float, float, int])"
   ]
  },
  {
   "cell_type": "code",
   "execution_count": 3,
   "metadata": {
    "ExecuteTime": {
     "end_time": "2017-03-10T10:37:46.016543Z",
     "start_time": "2017-03-10T10:37:46.011271Z"
    },
    "collapsed": true,
    "deletable": true,
    "editable": true,
    "run_control": {
     "frozen": false,
     "read_only": false
    }
   },
   "outputs": [],
   "source": [
    "NUM_CLASSES = 2 #  2クラス分類\n",
    "NUM_STEPS = 500 #  学習回数\n",
    "LEN_SEQ = 10 # 系列長\n",
    "SIZE_INPUT = 3 # 入力データ数\n",
    "NUM_DATA = 2009  # データ数\n",
    "NUM_TEST = 200 # テスト用のデータ数\n",
    "SIZE_BATCH = 100 # バッチサイズ\n",
    "NUM_NODE = 1024  # ノード数\n",
    "LEARNING_RATE = 0.01  # 学習率"
   ]
  },
  {
   "cell_type": "code",
   "execution_count": 4,
   "metadata": {
    "ExecuteTime": {
     "end_time": "2017-03-10T10:37:46.939521Z",
     "start_time": "2017-03-10T10:37:46.934860Z"
    },
    "collapsed": true,
    "deletable": true,
    "editable": true,
    "run_control": {
     "frozen": false,
     "read_only": false
    }
   },
   "outputs": [],
   "source": [
    "def get_data(dataset):\n",
    "    \"\"\"データセットをnparrayに変換する\"\"\"\n",
    "    raw_data = [list(item)[3:6] for item in dataset]\n",
    "    raw_data = np.array(raw_data)\n",
    "    return raw_data"
   ]
  },
  {
   "cell_type": "code",
   "execution_count": 5,
   "metadata": {
    "ExecuteTime": {
     "end_time": "2017-03-10T10:37:53.661996Z",
     "start_time": "2017-03-10T10:37:53.545376Z"
    },
    "collapsed": false,
    "deletable": true,
    "editable": true,
    "run_control": {
     "frozen": false,
     "read_only": false
    }
   },
   "outputs": [
    {
     "name": "stdout",
     "output_type": "stream",
     "text": [
      "[[ 0.089 -0.612 -0.76 ]\n",
      " [ 0.136 -0.685 -0.7  ]\n",
      " [-0.05  -0.521 -0.545]]\n"
     ]
    }
   ],
   "source": [
    "positive_data = get_data(positive_dataset)\n",
    "print (positive_data)[:3]"
   ]
  },
  {
   "cell_type": "code",
   "execution_count": 6,
   "metadata": {
    "ExecuteTime": {
     "end_time": "2017-03-10T09:30:40.224949Z",
     "start_time": "2017-03-10T09:30:40.218226Z"
    },
    "collapsed": false,
    "deletable": true,
    "editable": true,
    "run_control": {
     "frozen": false,
     "read_only": false
    }
   },
   "outputs": [],
   "source": [
    "def set_matrix(dataset,length):\n",
    "  tmp = []\n",
    "  ret = []\n",
    "  print length\n",
    "  for i in range(0,length):\n",
    "    tmp = []\n",
    "    for j in range(0,10):\n",
    "      tmp.append(dataset[i*10+j])\n",
    "    ret.append(np.array(tmp))\n",
    "  return np.array(ret)"
   ]
  },
  {
   "cell_type": "code",
   "execution_count": 7,
   "metadata": {
    "ExecuteTime": {
     "end_time": "2017-03-10T09:30:40.250391Z",
     "start_time": "2017-03-10T09:30:40.226637Z"
    },
    "collapsed": false,
    "deletable": true,
    "editable": true,
    "run_control": {
     "frozen": false,
     "read_only": false
    }
   },
   "outputs": [
    {
     "name": "stdout",
     "output_type": "stream",
     "text": [
      "1400\n",
      "[[[ 0.089 -0.612 -0.76 ]\n",
      "  [ 0.136 -0.685 -0.7  ]\n",
      "  [-0.05  -0.521 -0.545]\n",
      "  [ 0.131 -0.818 -1.042]\n",
      "  [ 0.043 -0.685 -0.742]\n",
      "  [ 0.237 -0.667 -0.506]\n",
      "  [ 0.467 -0.485 -0.786]\n",
      "  [-0.028 -0.635 -0.608]\n",
      "  [ 0.14  -0.845 -1.118]\n",
      "  [ 0.083 -0.689 -0.586]]\n",
      "\n",
      " [[ 0.248 -0.54  -0.79 ]\n",
      "  [-0.056 -0.62  -0.776]\n",
      "  [-0.101 -0.598 -0.689]\n",
      "  [ 0.185 -0.616 -0.711]\n",
      "  [ 0.45  -0.512 -0.757]\n",
      "  [ 0.002 -0.506 -0.049]\n",
      "  [ 0.217 -0.604 -0.732]\n",
      "  [-0.028 -0.799 -0.917]\n",
      "  [-0.062 -0.647 -0.753]\n",
      "  [-0.068 -0.851 -0.962]]\n",
      "\n",
      " [[ 0.133 -0.809 -0.947]\n",
      "  [ 0.097 -0.627 -0.792]\n",
      "  [ 0.077 -0.7   -0.661]\n",
      "  [ 0.084 -0.685 -0.689]\n",
      "  [ 0.116 -0.649 -0.638]\n",
      "  [-0.02  -0.529 -0.497]\n",
      "  [ 0.106 -0.587 -0.622]\n",
      "  [-0.026 -0.681 -0.846]\n",
      "  [ 0.046 -0.587 -0.654]\n",
      "  [ 0.008 -0.661 -0.712]]]\n"
     ]
    }
   ],
   "source": [
    "\n",
    "positive_main_data = set_matrix(positive_data,1400)\n",
    "print positive_main_data[:3]"
   ]
  },
  {
   "cell_type": "code",
   "execution_count": 8,
   "metadata": {
    "ExecuteTime": {
     "end_time": "2017-03-10T09:30:40.256207Z",
     "start_time": "2017-03-10T09:30:40.251904Z"
    },
    "collapsed": true,
    "deletable": true,
    "editable": true,
    "run_control": {
     "frozen": false,
     "read_only": false
    }
   },
   "outputs": [],
   "source": [
    "def create_label(num,length):\n",
    "  label = []\n",
    "  for i in range(0,length):\n",
    "    label.append(num)\n",
    "\n",
    "  return np.array(label)"
   ]
  },
  {
   "cell_type": "code",
   "execution_count": null,
   "metadata": {
    "collapsed": false,
    "deletable": true,
    "editable": true,
    "run_control": {
     "frozen": false,
     "read_only": false
    }
   },
   "outputs": [],
   "source": []
  },
  {
   "cell_type": "code",
   "execution_count": 9,
   "metadata": {
    "ExecuteTime": {
     "end_time": "2017-03-10T09:30:40.321584Z",
     "start_time": "2017-03-10T09:30:40.257726Z"
    },
    "collapsed": false,
    "deletable": true,
    "editable": true,
    "run_control": {
     "frozen": false,
     "read_only": false
    }
   },
   "outputs": [
    {
     "name": "stdout",
     "output_type": "stream",
     "text": [
      "(6090, 3)\n",
      "609\n"
     ]
    }
   ],
   "source": [
    "negative_data = get_data(negative_dataset)\n",
    "#negative_sqrt_data = create_sqrt_data(negative_data)\n",
    "#neg_len = negative_sqrt_data.size\n",
    "print negative_data.shape\n",
    "negative_main_data = set_matrix(negative_data,609)"
   ]
  },
  {
   "cell_type": "code",
   "execution_count": 10,
   "metadata": {
    "ExecuteTime": {
     "end_time": "2017-03-10T09:30:40.326785Z",
     "start_time": "2017-03-10T09:30:40.323155Z"
    },
    "collapsed": false,
    "deletable": true,
    "editable": true,
    "run_control": {
     "frozen": false,
     "read_only": false
    }
   },
   "outputs": [
    {
     "name": "stdout",
     "output_type": "stream",
     "text": [
      "(1400, 10, 3)\n",
      "(609, 10, 3)\n"
     ]
    }
   ],
   "source": [
    "print positive_main_data.shape\n",
    "print negative_main_data.shape"
   ]
  },
  {
   "cell_type": "code",
   "execution_count": 11,
   "metadata": {
    "ExecuteTime": {
     "end_time": "2017-03-10T09:30:40.334619Z",
     "start_time": "2017-03-10T09:30:40.328433Z"
    },
    "collapsed": false,
    "deletable": true,
    "editable": true,
    "run_control": {
     "frozen": false,
     "read_only": false
    }
   },
   "outputs": [
    {
     "name": "stdout",
     "output_type": "stream",
     "text": [
      "(1400,)\n",
      "(609,)\n",
      "[0 0 0 0 0 0 0 0 0 0]\n"
     ]
    }
   ],
   "source": [
    "positive_label = create_label(1,1400)\n",
    "print positive_label.shape\n",
    "negative_label = create_label(0,609)\n",
    "print negative_label.shape\n",
    "print negative_label[:10]"
   ]
  },
  {
   "cell_type": "code",
   "execution_count": 12,
   "metadata": {
    "ExecuteTime": {
     "end_time": "2017-03-10T09:30:40.347542Z",
     "start_time": "2017-03-10T09:30:40.336106Z"
    },
    "collapsed": false,
    "deletable": true,
    "editable": true,
    "run_control": {
     "frozen": false,
     "read_only": false
    }
   },
   "outputs": [
    {
     "name": "stdout",
     "output_type": "stream",
     "text": [
      "(2009, 10, 3)\n",
      "(1809, 10, 3)\n",
      "(1809,)\n"
     ]
    }
   ],
   "source": [
    "x_data = np.r_[positive_main_data, negative_main_data]\n",
    "print x_data.shape\n",
    "#print x_data\n",
    "y_data = np.r_[positive_label, negative_label]\n",
    "index_list = np.arange(0, 2009)\n",
    "np.random.shuffle(index_list)\n",
    "x_shuffle_data = x_data[index_list]\n",
    "y_shuffle_data = y_data[index_list]\n",
    "#print y_data\n",
    "x_train_data = x_shuffle_data[NUM_TEST:]\n",
    "y_train_label = y_shuffle_data[NUM_TEST:]\n",
    "print x_train_data.shape\n",
    "print y_train_label.shape\n",
    "x_test_data = x_shuffle_data[:NUM_TEST]\n",
    "y_test_label = y_shuffle_data[:NUM_TEST]\n"
   ]
  },
  {
   "cell_type": "code",
   "execution_count": 13,
   "metadata": {
    "ExecuteTime": {
     "end_time": "2017-03-10T09:30:40.355102Z",
     "start_time": "2017-03-10T09:30:40.349340Z"
    },
    "collapsed": false,
    "deletable": true,
    "editable": true,
    "run_control": {
     "frozen": false,
     "read_only": false
    }
   },
   "outputs": [
    {
     "name": "stdout",
     "output_type": "stream",
     "text": [
      "Tensor(\"Placeholder:0\", shape=(?, 10, 3), dtype=float32)\n"
     ]
    }
   ],
   "source": [
    "x = tf.placeholder(tf.float32, [None, LEN_SEQ, SIZE_INPUT])\n",
    "t = tf.placeholder(tf.int32, [None])\n",
    "print x"
   ]
  },
  {
   "cell_type": "code",
   "execution_count": 14,
   "metadata": {
    "ExecuteTime": {
     "end_time": "2017-03-10T09:30:40.362653Z",
     "start_time": "2017-03-10T09:30:40.356913Z"
    },
    "collapsed": true,
    "deletable": true,
    "editable": true,
    "run_control": {
     "frozen": false,
     "read_only": false
    }
   },
   "outputs": [],
   "source": [
    "t_on_hot = tf.one_hot(t, depth=NUM_CLASSES, dtype=tf.float32)"
   ]
  },
  {
   "cell_type": "code",
   "execution_count": 15,
   "metadata": {
    "ExecuteTime": {
     "end_time": "2017-03-10T09:30:40.372247Z",
     "start_time": "2017-03-10T09:30:40.364463Z"
    },
    "collapsed": true,
    "deletable": true,
    "editable": true,
    "run_control": {
     "frozen": false,
     "read_only": false
    }
   },
   "outputs": [],
   "source": [
    "x_transpose = tf.transpose(x, [1, 0, 2])\n",
    "x_reshape = tf.reshape(x_transpose, [-1, SIZE_INPUT])\n",
    "x_split = tf.split(x_reshape, LEN_SEQ, 0)"
   ]
  },
  {
   "cell_type": "code",
   "execution_count": 16,
   "metadata": {
    "ExecuteTime": {
     "end_time": "2017-03-10T09:30:40.475027Z",
     "start_time": "2017-03-10T09:30:40.373806Z"
    },
    "collapsed": false,
    "deletable": true,
    "editable": true,
    "run_control": {
     "frozen": false,
     "read_only": false
    }
   },
   "outputs": [],
   "source": [
    "lstm_cell = rnn.BasicLSTMCell(NUM_NODE, forget_bias=1.0)\n",
    "outputs, states = rnn.static_rnn(lstm_cell, x_split, dtype=tf.float32)"
   ]
  },
  {
   "cell_type": "code",
   "execution_count": 17,
   "metadata": {
    "ExecuteTime": {
     "end_time": "2017-03-10T09:30:40.491626Z",
     "start_time": "2017-03-10T09:30:40.476758Z"
    },
    "collapsed": true,
    "deletable": true,
    "editable": true,
    "run_control": {
     "frozen": false,
     "read_only": false
    }
   },
   "outputs": [],
   "source": [
    "w = tf.Variable(tf.random_normal([NUM_NODE, NUM_CLASSES]))\n",
    "b = tf.Variable(tf.random_normal([NUM_CLASSES]))\n",
    "logits = tf.matmul(outputs[-1], w) + b\n",
    "pred = tf.nn.softmax(logits)"
   ]
  },
  {
   "cell_type": "code",
   "execution_count": 18,
   "metadata": {
    "ExecuteTime": {
     "end_time": "2017-03-10T09:30:40.514075Z",
     "start_time": "2017-03-10T09:30:40.493372Z"
    },
    "collapsed": true,
    "deletable": true,
    "editable": true,
    "run_control": {
     "frozen": false,
     "read_only": false
    }
   },
   "outputs": [],
   "source": [
    "cross_entropy = tf.nn.softmax_cross_entropy_with_logits(labels=t_on_hot, logits=logits)\n",
    "loss = tf.reduce_mean(cross_entropy)"
   ]
  },
  {
   "cell_type": "code",
   "execution_count": 19,
   "metadata": {
    "ExecuteTime": {
     "end_time": "2017-03-10T09:30:41.055335Z",
     "start_time": "2017-03-10T09:30:40.516073Z"
    },
    "collapsed": true,
    "deletable": true,
    "editable": true,
    "run_control": {
     "frozen": false,
     "read_only": false
    }
   },
   "outputs": [],
   "source": [
    "optimizer = tf.train.AdamOptimizer(learning_rate=LEARNING_RATE)\n",
    "train_step = optimizer.minimize(loss)"
   ]
  },
  {
   "cell_type": "code",
   "execution_count": 20,
   "metadata": {
    "ExecuteTime": {
     "end_time": "2017-03-10T09:30:41.064604Z",
     "start_time": "2017-03-10T09:30:41.056882Z"
    },
    "collapsed": true,
    "deletable": true,
    "editable": true,
    "run_control": {
     "frozen": false,
     "read_only": false
    }
   },
   "outputs": [],
   "source": [
    "correct_prediction = tf.equal(tf.argmax(pred,1), tf.argmax(t_on_hot,1))\n",
    "accuracy = tf.reduce_mean(tf.cast(correct_prediction, tf.float32))"
   ]
  },
  {
   "cell_type": "code",
   "execution_count": 21,
   "metadata": {
    "ExecuteTime": {
     "end_time": "2017-03-10T09:30:41.069347Z",
     "start_time": "2017-03-10T09:30:41.066078Z"
    },
    "collapsed": true,
    "deletable": true,
    "editable": true,
    "run_control": {
     "frozen": false,
     "read_only": false
    }
   },
   "outputs": [],
   "source": [
    "loss_train = []\n",
    "acc_train = []\n",
    "loss_test = []\n",
    "acc_test = []"
   ]
  },
  {
   "cell_type": "code",
   "execution_count": 22,
   "metadata": {
    "ExecuteTime": {
     "end_time": "2017-03-10T09:30:59.009336Z",
     "start_time": "2017-03-10T09:30:41.070853Z"
    },
    "collapsed": false,
    "deletable": true,
    "editable": true,
    "run_control": {
     "frozen": false,
     "read_only": false
    }
   },
   "outputs": [
    {
     "name": "stdout",
     "output_type": "stream",
     "text": [
      "initialization\n",
      "[10 STEPS] 0.654960 sec\n",
      "[TRAIN] loss : 99.984032, accuracy : 0.410000\n",
      "[TEST loss : 121.157524, accuracy : 0.285000\n",
      "[20 STEPS] 1.018295 sec\n",
      "[TRAIN] loss : 52.519337, accuracy : 0.400000\n",
      "[TEST loss : 62.583149, accuracy : 0.285000\n",
      "[30 STEPS] 1.364896 sec\n",
      "[TRAIN] loss : 12.387325, accuracy : 0.270000\n",
      "[TEST loss : 12.144755, accuracy : 0.285000\n",
      "[40 STEPS] 1.711979 sec\n",
      "[TRAIN] loss : 4.720477, accuracy : 0.790000\n",
      "[TEST loss : 6.406745, accuracy : 0.715000\n",
      "[50 STEPS] 2.059098 sec\n",
      "[TRAIN] loss : 3.694108, accuracy : 0.750000\n",
      "[TEST loss : 4.213658, accuracy : 0.715000\n",
      "[60 STEPS] 2.405782 sec\n",
      "[TRAIN] loss : 2.460335, accuracy : 0.260000\n",
      "[TEST loss : 2.375607, accuracy : 0.285000\n",
      "[70 STEPS] 2.749063 sec\n",
      "[TRAIN] loss : 0.819290, accuracy : 0.750000\n",
      "[TEST loss : 0.930801, accuracy : 0.715000\n",
      "[80 STEPS] 3.087569 sec\n",
      "[TRAIN] loss : 0.487893, accuracy : 0.740000\n",
      "[TEST loss : 0.533898, accuracy : 0.715000\n",
      "[90 STEPS] 3.425894 sec\n",
      "[TRAIN] loss : 0.352411, accuracy : 0.710000\n",
      "[TEST loss : 0.346002, accuracy : 0.715000\n",
      "[100 STEPS] 3.763108 sec\n",
      "[TRAIN] loss : 0.354580, accuracy : 1.000000\n",
      "[TEST loss : 0.341453, accuracy : 1.000000\n",
      "[110 STEPS] 4.097432 sec\n",
      "[TRAIN] loss : 0.332314, accuracy : 1.000000\n",
      "[TEST loss : 0.306197, accuracy : 1.000000\n",
      "[120 STEPS] 4.432129 sec\n",
      "[TRAIN] loss : 0.284585, accuracy : 1.000000\n",
      "[TEST loss : 0.288976, accuracy : 1.000000\n",
      "[130 STEPS] 4.768828 sec\n",
      "[TRAIN] loss : 0.259883, accuracy : 1.000000\n",
      "[TEST loss : 0.269706, accuracy : 1.000000\n",
      "[140 STEPS] 5.101736 sec\n",
      "[TRAIN] loss : 0.235631, accuracy : 1.000000\n",
      "[TEST loss : 0.249134, accuracy : 1.000000\n",
      "[150 STEPS] 5.438112 sec\n",
      "[TRAIN] loss : 0.225134, accuracy : 1.000000\n",
      "[TEST loss : 0.233049, accuracy : 1.000000\n",
      "[160 STEPS] 5.774412 sec\n",
      "[TRAIN] loss : 0.203637, accuracy : 1.000000\n",
      "[TEST loss : 0.215471, accuracy : 1.000000\n",
      "[170 STEPS] 6.107610 sec\n",
      "[TRAIN] loss : 0.191302, accuracy : 1.000000\n",
      "[TEST loss : 0.199408, accuracy : 1.000000\n",
      "[180 STEPS] 6.444579 sec\n",
      "[TRAIN] loss : 0.191565, accuracy : 1.000000\n",
      "[TEST loss : 0.185335, accuracy : 1.000000\n",
      "[190 STEPS] 6.776284 sec\n",
      "[TRAIN] loss : 0.188174, accuracy : 1.000000\n",
      "[TEST loss : 0.167549, accuracy : 1.000000\n",
      "[200 STEPS] 7.112358 sec\n",
      "[TRAIN] loss : 0.174921, accuracy : 1.000000\n",
      "[TEST loss : 0.152943, accuracy : 1.000000\n",
      "[210 STEPS] 7.449445 sec\n",
      "[TRAIN] loss : 0.137648, accuracy : 1.000000\n",
      "[TEST loss : 0.140861, accuracy : 1.000000\n",
      "[220 STEPS] 7.783559 sec\n",
      "[TRAIN] loss : 0.127051, accuracy : 1.000000\n",
      "[TEST loss : 0.128874, accuracy : 1.000000\n",
      "[230 STEPS] 8.119574 sec\n",
      "[TRAIN] loss : 0.108714, accuracy : 1.000000\n",
      "[TEST loss : 0.116004, accuracy : 1.000000\n",
      "[240 STEPS] 8.453368 sec\n",
      "[TRAIN] loss : 0.101688, accuracy : 1.000000\n",
      "[TEST loss : 0.106195, accuracy : 1.000000\n",
      "[250 STEPS] 8.789662 sec\n",
      "[TRAIN] loss : 0.091712, accuracy : 1.000000\n",
      "[TEST loss : 0.096124, accuracy : 1.000000\n",
      "[260 STEPS] 9.126585 sec\n",
      "[TRAIN] loss : 0.084400, accuracy : 1.000000\n",
      "[TEST loss : 0.087756, accuracy : 1.000000\n",
      "[270 STEPS] 9.462224 sec\n",
      "[TRAIN] loss : 0.089745, accuracy : 0.990000\n",
      "[TEST loss : 0.080882, accuracy : 1.000000\n",
      "[280 STEPS] 9.799708 sec\n",
      "[TRAIN] loss : 0.079753, accuracy : 1.000000\n",
      "[TEST loss : 0.073788, accuracy : 1.000000\n",
      "[290 STEPS] 10.136685 sec\n",
      "[TRAIN] loss : 0.078832, accuracy : 1.000000\n",
      "[TEST loss : 0.067508, accuracy : 1.000000\n",
      "[300 STEPS] 10.473734 sec\n",
      "[TRAIN] loss : 0.059982, accuracy : 1.000000\n",
      "[TEST loss : 0.062445, accuracy : 1.000000\n",
      "[310 STEPS] 10.810315 sec\n",
      "[TRAIN] loss : 0.055192, accuracy : 1.000000\n",
      "[TEST loss : 0.057025, accuracy : 1.000000\n",
      "[320 STEPS] 11.144599 sec\n",
      "[TRAIN] loss : 0.048603, accuracy : 1.000000\n",
      "[TEST loss : 0.052840, accuracy : 1.000000\n",
      "[330 STEPS] 11.478948 sec\n",
      "[TRAIN] loss : 0.045438, accuracy : 1.000000\n",
      "[TEST loss : 0.048776, accuracy : 1.000000\n",
      "[340 STEPS] 11.816112 sec\n",
      "[TRAIN] loss : 0.043123, accuracy : 1.000000\n",
      "[TEST loss : 0.045209, accuracy : 1.000000\n",
      "[350 STEPS] 12.152658 sec\n",
      "[TRAIN] loss : 0.039898, accuracy : 1.000000\n",
      "[TEST loss : 0.042111, accuracy : 1.000000\n",
      "[360 STEPS] 12.489061 sec\n",
      "[TRAIN] loss : 0.052138, accuracy : 0.990000\n",
      "[TEST loss : 0.039352, accuracy : 1.000000\n",
      "[370 STEPS] 12.826225 sec\n",
      "[TRAIN] loss : 0.038879, accuracy : 1.000000\n",
      "[TEST loss : 0.036980, accuracy : 1.000000\n",
      "[380 STEPS] 13.163530 sec\n",
      "[TRAIN] loss : 0.040605, accuracy : 1.000000\n",
      "[TEST loss : 0.034575, accuracy : 1.000000\n",
      "[390 STEPS] 13.498893 sec\n",
      "[TRAIN] loss : 0.030951, accuracy : 1.000000\n",
      "[TEST loss : 0.032842, accuracy : 1.000000\n",
      "[400 STEPS] 13.832543 sec\n",
      "[TRAIN] loss : 0.028677, accuracy : 1.000000\n",
      "[TEST loss : 0.030521, accuracy : 1.000000\n",
      "[410 STEPS] 14.169467 sec\n",
      "[TRAIN] loss : 0.026639, accuracy : 1.000000\n",
      "[TEST loss : 0.029178, accuracy : 1.000000\n",
      "[420 STEPS] 14.505962 sec\n",
      "[TRAIN] loss : 0.024560, accuracy : 1.000000\n",
      "[TEST loss : 0.027190, accuracy : 1.000000\n",
      "[430 STEPS] 14.843078 sec\n",
      "[TRAIN] loss : 0.024669, accuracy : 1.000000\n",
      "[TEST loss : 0.025924, accuracy : 1.000000\n",
      "[440 STEPS] 15.180356 sec\n",
      "[TRAIN] loss : 0.022523, accuracy : 1.000000\n",
      "[TEST loss : 0.024321, accuracy : 1.000000\n",
      "[450 STEPS] 15.513666 sec\n",
      "[TRAIN] loss : 0.040860, accuracy : 0.990000\n",
      "[TEST loss : 0.022994, accuracy : 1.000000\n",
      "[460 STEPS] 15.847744 sec\n",
      "[TRAIN] loss : 0.023555, accuracy : 1.000000\n",
      "[TEST loss : 0.021710, accuracy : 1.000000\n",
      "[470 STEPS] 16.185259 sec\n",
      "[TRAIN] loss : 0.023072, accuracy : 1.000000\n",
      "[TEST loss : 0.020500, accuracy : 1.000000\n",
      "[480 STEPS] 16.523017 sec\n",
      "[TRAIN] loss : 0.017843, accuracy : 1.000000\n",
      "[TEST loss : 0.019306, accuracy : 1.000000\n",
      "[490 STEPS] 16.859357 sec\n",
      "[TRAIN] loss : 0.017333, accuracy : 1.000000\n",
      "[TEST loss : 0.018046, accuracy : 1.000000\n",
      "[500 STEPS] 17.196229 sec\n",
      "[TRAIN] loss : 0.014587, accuracy : 1.000000\n",
      "[TEST loss : 0.017140, accuracy : 1.000000\n"
     ]
    }
   ],
   "source": [
    "saver = tf.train.Saver()\n",
    "sess = tf.InteractiveSession()\n",
    "ckpt = tf.train.get_checkpoint_state(CKPTDIR)\n",
    "if ckpt:\n",
    "    # checkpointファイルから最後に保存したモデルへのパスを取得する\n",
    "    last_model = ckpt.model_checkpoint_path\n",
    "    print((\"load {0}\".format(last_model)))\n",
    "    # 学習済みモデルを読み込む\n",
    "    saver.restore(sess, last_model)\n",
    "    LOAD_MODEL = True\n",
    "else:\n",
    "  print(\"initialization\")\n",
    "#sess = tf.Session()\n",
    "  sess.run(tf.global_variables_initializer())\n",
    "  start = time()\n",
    "  i = 0\n",
    "  for _ in range(NUM_STEPS):\n",
    "      cycle = int((NUM_DATA-NUM_TEST)/SIZE_BATCH)\n",
    "      begin = int(SIZE_BATCH * (i % cycle))\n",
    "      end = int(begin + SIZE_BATCH)\n",
    "      batch_x, batch_t = x_train_data[begin:end], y_train_label[begin:end]\n",
    "      i += 1\n",
    "      sess.run(train_step, feed_dict={x: batch_x, t: batch_t})\n",
    "      if i % 10 == 0:\n",
    "          #print begin\n",
    "          #print end\n",
    "          loss_, acc_ = sess.run([loss, accuracy], feed_dict={x: batch_x, t: batch_t})\n",
    "          loss_train.append(loss_)\n",
    "          acc_train.append(acc_)\n",
    "          loss_test_, acc_test_ = sess.run([loss, accuracy], feed_dict={x: x_test_data, t: y_test_label})\n",
    "          loss_test.append(loss_test_)\n",
    "          acc_test.append(acc_test_)\n",
    "          print(\"[%i STEPS] %f sec\" % (i, (time() - start)))\n",
    "          print(\"[TRAIN] loss : %f, accuracy : %f\" %(loss_, acc_))\n",
    "          print(\"[TEST loss : %f, accuracy : %f\" %(loss_test_, acc_test_))\n",
    "          \n",
    "  saver.save(sess, CKPTDIR+\"/model\")"
   ]
  },
  {
   "cell_type": "code",
   "execution_count": null,
   "metadata": {
    "collapsed": true,
    "deletable": true,
    "editable": true,
    "run_control": {
     "frozen": false,
     "read_only": false
    }
   },
   "outputs": [],
   "source": []
  },
  {
   "cell_type": "code",
   "execution_count": null,
   "metadata": {
    "collapsed": true,
    "deletable": true,
    "editable": true,
    "run_control": {
     "frozen": false,
     "read_only": false
    }
   },
   "outputs": [],
   "source": []
  },
  {
   "cell_type": "code",
   "execution_count": null,
   "metadata": {
    "collapsed": true,
    "deletable": true,
    "editable": true,
    "run_control": {
     "frozen": false,
     "read_only": false
    }
   },
   "outputs": [],
   "source": []
  },
  {
   "cell_type": "code",
   "execution_count": null,
   "metadata": {
    "collapsed": true,
    "deletable": true,
    "editable": true,
    "run_control": {
     "frozen": false,
     "read_only": false
    }
   },
   "outputs": [],
   "source": []
  }
 ],
 "metadata": {
  "kernelspec": {
   "display_name": "Python 2",
   "language": "python",
   "name": "python2"
  },
  "language_info": {
   "codemirror_mode": {
    "name": "ipython",
    "version": 2
   },
   "file_extension": ".py",
   "mimetype": "text/x-python",
   "name": "python",
   "nbconvert_exporter": "python",
   "pygments_lexer": "ipython2",
   "version": "2.7.12"
  },
  "nbTranslate": {
   "displayLangs": [
    "*"
   ],
   "hotkey": "alt-t",
   "langInMainMenu": true,
   "sourceLang": "en",
   "targetLang": "fr",
   "useGoogleTranslate": true
  }
 },
 "nbformat": 4,
 "nbformat_minor": 2
}
