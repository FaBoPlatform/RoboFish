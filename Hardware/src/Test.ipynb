{
 "cells": [
  {
   "cell_type": "markdown",
   "metadata": {
    "deletable": true,
    "editable": true
   },
   "source": [
    "# TEST1\n",
    "正回転のテスト、1-100の正常値を引数として与えて実行。"
   ]
  },
  {
   "cell_type": "code",
   "execution_count": 13,
   "metadata": {
    "collapsed": false,
    "deletable": true,
    "editable": true
   },
   "outputs": [],
   "source": [
    "import time\n",
    "import robofish\n",
    "reload(robofish)\n",
    "\n",
    "r = robofish.Robot()\n",
    "r.reel_stop()\n",
    "\n",
    "for i in range(1,100):\n",
    "    r.reel_forward(i)\n",
    "    time.sleep(0.1)\n",
    "\n",
    "r.reel_stop()"
   ]
  },
  {
   "cell_type": "markdown",
   "metadata": {
    "deletable": true,
    "editable": true
   },
   "source": [
    "# TEST2\n",
    "逆回転のテスト、1-100の正常値を引数として与えて実行。"
   ]
  },
  {
   "cell_type": "code",
   "execution_count": 17,
   "metadata": {
    "collapsed": false,
    "deletable": true,
    "editable": true
   },
   "outputs": [],
   "source": [
    "import time\n",
    "import robofish\n",
    "reload(robofish)\n",
    "\n",
    "r = robofish.Robot()\n",
    "r.reel_stop()\n",
    "\n",
    "for i in range(1,100):\n",
    "    r.reel_back(i)\n",
    "    time.sleep(0.1)\n",
    "\n",
    "r.reel_stop()"
   ]
  },
  {
   "cell_type": "markdown",
   "metadata": {
    "deletable": true,
    "editable": true
   },
   "source": [
    "# TEST3\n",
    "ブレーキのテスト。3秒後に急停止。"
   ]
  },
  {
   "cell_type": "code",
   "execution_count": 19,
   "metadata": {
    "collapsed": false,
    "deletable": true,
    "editable": true
   },
   "outputs": [],
   "source": [
    "import time\n",
    "import robofish\n",
    "reload(robofish)\n",
    "\n",
    "r = robofish.Robot()\n",
    "r.reel_stop()\n",
    "\n",
    "r.reel_forward(100)\n",
    "time.sleep(3)\n",
    "r.reel_stop()\n",
    "r.reel_brake()"
   ]
  },
  {
   "cell_type": "markdown",
   "metadata": {
    "deletable": true,
    "editable": true
   },
   "source": [
    "# TEST4\n",
    "\n",
    "カウンターのテスト。"
   ]
  },
  {
   "cell_type": "code",
   "execution_count": 21,
   "metadata": {
    "collapsed": false,
    "deletable": true,
    "editable": true
   },
   "outputs": [
    {
     "name": "stdout",
     "output_type": "stream",
     "text": [
      "not is alive\n",
      "count 34   \n",
      "34\n"
     ]
    }
   ],
   "source": [
    "import time\n",
    "import robofish\n",
    "reload(robofish)\n",
    "\n",
    "r = robofish.Robot()\n",
    "if not r.is_alive():\n",
    "    print \"not is alive\"\n",
    "    r.start() \n",
    "\n",
    "r.reel_stop()\n",
    "\n",
    "for i in range(1,100):\n",
    "    r.reel_back(i)\n",
    "    time.sleep(0.1)\n",
    "\n",
    "r.reel_stop()\n",
    "r.reel_brake()\n",
    "r.flg = False\n",
    "print \"\"\n",
    "print r.get_reel_count()"
   ]
  },
  {
   "cell_type": "markdown",
   "metadata": {
    "deletable": true,
    "editable": true
   },
   "source": [
    "# TEST5\n",
    "\n",
    "釣り竿の制御"
   ]
  },
  {
   "cell_type": "code",
   "execution_count": 5,
   "metadata": {
    "collapsed": false,
    "deletable": true,
    "editable": true
   },
   "outputs": [
    {
     "name": "stdout",
     "output_type": "stream",
     "text": [
      "12\n",
      "12\n"
     ]
    },
    {
     "ename": "KeyboardInterrupt",
     "evalue": "",
     "output_type": "error",
     "traceback": [
      "\u001b[0;31m---------------------------------------------------------------------------\u001b[0m",
      "\u001b[0;31mKeyboardInterrupt\u001b[0m                         Traceback (most recent call last)",
      "\u001b[0;32m<ipython-input-5-a8d48fa4a88e>\u001b[0m in \u001b[0;36m<module>\u001b[0;34m()\u001b[0m\n\u001b[1;32m     27\u001b[0m         \u001b[0mtime\u001b[0m\u001b[0;34m.\u001b[0m\u001b[0msleep\u001b[0m\u001b[0;34m(\u001b[0m\u001b[0;36m1\u001b[0m\u001b[0;34m)\u001b[0m \u001b[0;31m#１回しゃくりをした後少し待機\u001b[0m\u001b[0;34m\u001b[0m\u001b[0m\n\u001b[1;32m     28\u001b[0m \u001b[0;34m\u001b[0m\u001b[0m\n\u001b[0;32m---> 29\u001b[0;31m \u001b[0msyakuri\u001b[0m\u001b[0;34m(\u001b[0m\u001b[0;34m)\u001b[0m\u001b[0;34m\u001b[0m\u001b[0m\n\u001b[0m\u001b[1;32m     30\u001b[0m \u001b[0mservo\u001b[0m\u001b[0;34m.\u001b[0m\u001b[0mstop\u001b[0m\u001b[0;34m(\u001b[0m\u001b[0;34m)\u001b[0m\u001b[0;34m\u001b[0m\u001b[0m\n",
      "\u001b[0;32m<ipython-input-5-a8d48fa4a88e>\u001b[0m in \u001b[0;36msyakuri\u001b[0;34m()\u001b[0m\n\u001b[1;32m     22\u001b[0m         \u001b[0;32mprint\u001b[0m \u001b[0mmove_angle\u001b[0m\u001b[0;34m\u001b[0m\u001b[0m\n\u001b[1;32m     23\u001b[0m         \u001b[0mservo\u001b[0m\u001b[0;34m.\u001b[0m\u001b[0mChangeDutyCycle\u001b[0m\u001b[0;34m(\u001b[0m\u001b[0mmove_angle\u001b[0m\u001b[0;34m)\u001b[0m \u001b[0;31m#竿が上がる方向にサーボを動かす\u001b[0m\u001b[0;34m\u001b[0m\u001b[0m\n\u001b[0;32m---> 24\u001b[0;31m         \u001b[0mtime\u001b[0m\u001b[0;34m.\u001b[0m\u001b[0msleep\u001b[0m\u001b[0;34m(\u001b[0m\u001b[0;36m1.15\u001b[0m\u001b[0;34m)\u001b[0m \u001b[0;31m#サーボが上がるまで待機\u001b[0m\u001b[0;34m\u001b[0m\u001b[0m\n\u001b[0m\u001b[1;32m     25\u001b[0m         \u001b[0mdown_angle\u001b[0m \u001b[0;34m=\u001b[0m \u001b[0;36m10\u001b[0m\u001b[0;34m\u001b[0m\u001b[0m\n\u001b[1;32m     26\u001b[0m         \u001b[0mservo\u001b[0m\u001b[0;34m.\u001b[0m\u001b[0mChangeDutyCycle\u001b[0m\u001b[0;34m(\u001b[0m\u001b[0mdown_angle\u001b[0m\u001b[0;34m)\u001b[0m \u001b[0;31m#竿を下げる方向にサーボを動かす。\u001b[0m\u001b[0;34m\u001b[0m\u001b[0m\n",
      "\u001b[0;31mKeyboardInterrupt\u001b[0m: "
     ]
    }
   ],
   "source": [
    "import RPi.GPIO as GPIO\n",
    "import time\n",
    "import random\n",
    "\n",
    "#PWMを50Hzに設定\n",
    "PWM_HZ = 50\n",
    "\n",
    "#initialize\n",
    "SERVOPIN = 23 #サーボは23Pinに接続\n",
    "GPIO.setmode(GPIO.BCM)\n",
    "GPIO.setup(SERVOPIN,GPIO.OUT) #GPIOは出力に設定\n",
    "servo = GPIO.PWM(SERVOPIN,PWM_HZ) \n",
    "servo.start(10) #サーボを竿を下げた状態でスタート\n",
    "\n",
    "def map(x, in_min, in_max, out_min, out_max):\n",
    "    return (x - in_min) * (out_max - out_min) // (in_max - in_min) + out_min\n",
    "\n",
    "def syakuri():\n",
    "    for i in range(10): #しゃくりを1~3回で行う\n",
    "        up_angle = 180 # 10をベースに前後しているので、\n",
    "        move_angle = map(up_angle, 0,180,2,12)\n",
    "        print move_angle\n",
    "        servo.ChangeDutyCycle(move_angle) #竿が上がる方向にサーボを動かす\n",
    "        time.sleep(1.15) #サーボが上がるまで待機\n",
    "        down_angle = 10\n",
    "        servo.ChangeDutyCycle(down_angle) #竿を下げる方向にサーボを動かす。\n",
    "        time.sleep(1) #１回しゃくりをした後少し待機\n",
    "\n",
    "syakuri()\n",
    "servo.stop()"
   ]
  },
  {
   "cell_type": "markdown",
   "metadata": {
    "deletable": true,
    "editable": true
   },
   "source": [
    "## TEST6\n",
    "リールの手動巻き上げ"
   ]
  },
  {
   "cell_type": "code",
   "execution_count": 64,
   "metadata": {
    "collapsed": false,
    "deletable": true,
    "editable": true
   },
   "outputs": [],
   "source": [
    "import robofish\n",
    "reload(robofish)\n",
    "import RPi.GPIO as GPIO\n",
    "import sys\n",
    "import time\n",
    "\n",
    "r = robofish.Robot()\n",
    "Up_BP=5\n",
    "Down_BP=6\n",
    "\n",
    "\n",
    "GPIO.setmode(GPIO.BCM)\n",
    "GPIO.setup(Up_BP, GPIO.IN)\n",
    "GPIO.setup(Down_BP, GPIO.IN)\n",
    "\n",
    "try:\n",
    "    while True:\n",
    "        if GPIO.input(Up_BP):\n",
    "            r.forward(0x15)\n",
    "        elif GPIO.input(Down_BP):\n",
    "            r.back(0x15)\n",
    "        else:\n",
    "            r.brake()\n",
    "        time.sleep(0.05)\n",
    "except KeyboardInterrupt:\n",
    "    pass\n"
   ]
  },
  {
   "cell_type": "code",
   "execution_count": null,
   "metadata": {
    "collapsed": true,
    "deletable": true,
    "editable": true
   },
   "outputs": [],
   "source": []
  }
 ],
 "metadata": {
  "kernelspec": {
   "display_name": "Python 2",
   "language": "python",
   "name": "python2"
  },
  "language_info": {
   "codemirror_mode": {
    "name": "ipython",
    "version": 2
   },
   "file_extension": ".py",
   "mimetype": "text/x-python",
   "name": "python",
   "nbconvert_exporter": "python",
   "pygments_lexer": "ipython2",
   "version": "2.7.9"
  }
 },
 "nbformat": 4,
 "nbformat_minor": 2
}
