{
 "cells": [
  {
   "cell_type": "markdown",
   "metadata": {
    "deletable": true,
    "editable": true
   },
   "source": [
    "# TEST1\n",
    "正回転のテスト、1-100の正常値を引数として与えて実行。"
   ]
  },
  {
   "cell_type": "code",
   "execution_count": 13,
   "metadata": {
    "collapsed": false,
    "deletable": true,
    "editable": true
   },
   "outputs": [],
   "source": [
    "import time\n",
    "import robofish\n",
    "reload(robofish)\n",
    "\n",
    "r = robofish.Robot()\n",
    "r.reel_stop()\n",
    "\n",
    "for i in range(1,100):\n",
    "    r.reel_forward(i)\n",
    "    time.sleep(0.1)\n",
    "\n",
    "r.reel_stop()"
   ]
  },
  {
   "cell_type": "markdown",
   "metadata": {
    "deletable": true,
    "editable": true
   },
   "source": [
    "# TEST2\n",
    "逆回転のテスト、1-100の正常値を引数として与えて実行。"
   ]
  },
  {
   "cell_type": "code",
   "execution_count": 17,
   "metadata": {
    "collapsed": false,
    "deletable": true,
    "editable": true
   },
   "outputs": [],
   "source": [
    "import time\n",
    "import robofish\n",
    "reload(robofish)\n",
    "\n",
    "r = robofish.Robot()\n",
    "r.reel_stop()\n",
    "\n",
    "for i in range(1,100):\n",
    "    r.reel_back(i)\n",
    "    time.sleep(0.1)\n",
    "\n",
    "r.reel_stop()"
   ]
  },
  {
   "cell_type": "markdown",
   "metadata": {
    "deletable": true,
    "editable": true
   },
   "source": [
    "# TEST3\n",
    "ブレーキのテスト。3秒後に急停止。"
   ]
  },
  {
   "cell_type": "code",
   "execution_count": 19,
   "metadata": {
    "collapsed": false,
    "deletable": true,
    "editable": true
   },
   "outputs": [],
   "source": [
    "import time\n",
    "import robofish\n",
    "reload(robofish)\n",
    "\n",
    "r = robofish.Robot()\n",
    "r.reel_stop()\n",
    "\n",
    "r.reel_forward(100)\n",
    "time.sleep(3)\n",
    "r.reel_stop()\n",
    "r.reel_brake()"
   ]
  },
  {
   "cell_type": "markdown",
   "metadata": {
    "deletable": true,
    "editable": true
   },
   "source": [
    "# TEST4\n",
    "\n",
    "カウンターのテスト。"
   ]
  },
  {
   "cell_type": "code",
   "execution_count": 3,
   "metadata": {
    "collapsed": false,
    "deletable": true,
    "editable": true
   },
   "outputs": [
    {
     "name": "stdout",
     "output_type": "stream",
     "text": [
      "not is alive\n",
      "\n",
      "-54\n"
     ]
    }
   ],
   "source": [
    "import time\n",
    "import robofish\n",
    "reload(robofish)\n",
    "\n",
    "r = robofish.Robot()\n",
    "if not r.is_alive():\n",
    "    print \"not is alive\"\n",
    "    r.start() \n",
    "\n",
    "r.reel_stop()\n",
    "\n",
    "for i in range(1,100):\n",
    "    r.reel_back(i)\n",
    "    time.sleep(0.1)\n",
    "\n",
    "r.reel_stop()\n",
    "r.reel_brake()\n",
    "r.flg = False\n",
    "print \"\"\n",
    "print r.get_reel_count()"
   ]
  },
  {
   "cell_type": "markdown",
   "metadata": {
    "deletable": true,
    "editable": true
   },
   "source": [
    "# TEST5\n",
    "\n",
    "釣り竿の制御"
   ]
  },
  {
   "cell_type": "code",
   "execution_count": 2,
   "metadata": {
    "collapsed": false,
    "deletable": true,
    "editable": true
   },
   "outputs": [
    {
     "name": "stdout",
     "output_type": "stream",
     "text": [
      "0\n",
      "1\n",
      "2\n",
      "3\n",
      "4\n",
      "rod_stop\n"
     ]
    }
   ],
   "source": [
    "import robofish\n",
    "reload(robofish)\n",
    "import RPi.GPIO as GPIO\n",
    "import time\n",
    "\n",
    "r = robofish.Robot()\n",
    "\n",
    "try:\n",
    "    for i in range(5): #しゃくりを1~3回で行う   \n",
    "        print i\n",
    "        r.rod_move(115)\n",
    "        time.sleep(1) #サーボが上がるまで待機\n",
    "        r.rod_move(120)\n",
    "        time.sleep(1) #１回しゃくりをした後少し待機\n",
    "\n",
    "    r.rod_stop()\n",
    "except KeyboardInterrupt:\n",
    "     r.rod_stop()"
   ]
  },
  {
   "cell_type": "markdown",
   "metadata": {
    "deletable": true,
    "editable": true
   },
   "source": [
    "## TEST6\n",
    "リールの手動巻き上げ"
   ]
  },
  {
   "cell_type": "code",
   "execution_count": 1,
   "metadata": {
    "collapsed": false,
    "deletable": true,
    "editable": true
   },
   "outputs": [
    {
     "name": "stderr",
     "output_type": "stream",
     "text": [
      "robofish.py:37: RuntimeWarning: No channels have been set up yet - nothing to clean up!  Try cleaning up at the end of your program instead!\n",
      "  GPIO.cleanup()\n"
     ]
    },
    {
     "name": "stdout",
     "output_type": "stream",
     "text": [
      "depth = 0.000000TEST\n"
     ]
    }
   ],
   "source": [
    "import robofish\n",
    "reload(robofish)\n",
    "import RPi.GPIO as GPIO\n",
    "import sys\n",
    "import time\n",
    "\n",
    "r = robofish.Robot()\n",
    "r.start()\n",
    "Up_BP=5\n",
    "Down_BP=6\n",
    "\n",
    "GPIO.setmode(GPIO.BCM)\n",
    "GPIO.setup(Up_BP, GPIO.IN)\n",
    "GPIO.setup(Down_BP, GPIO.IN)\n",
    "depth = 0\n",
    "counter = 0\n",
    "CIRCLE_LENGTH = 163\n",
    "\n",
    "try:\n",
    "    while True:\n",
    "        if GPIO.input(Up_BP):\n",
    "            r.reel_forward(100)\n",
    "            depth = r.get_reel_count() * CIRCLE_LENGTH\n",
    "            \n",
    "        elif GPIO.input(Down_BP):\n",
    "            r.reel_back(100)\n",
    "            depth = r.get_reel_count() * CIRCLE_LENGTH\n",
    "        else:\n",
    "            r.reel_brake()\n",
    "        time.sleep(0.01)\n",
    "        \n",
    "        sys.stdout.write(\"\\rdepth = %f\" % depth)\n",
    "        sys.stdout.flush()\n",
    "except KeyboardInterrupt:\n",
    "    print \"TEST\"\n",
    "    r.flg = False"
   ]
  },
  {
   "cell_type": "code",
   "execution_count": null,
   "metadata": {
    "collapsed": true,
    "deletable": true,
    "editable": true
   },
   "outputs": [],
   "source": []
  }
 ],
 "metadata": {
  "kernelspec": {
   "display_name": "Python 2",
   "language": "python",
   "name": "python2"
  },
  "language_info": {
   "codemirror_mode": {
    "name": "ipython",
    "version": 2
   },
   "file_extension": ".py",
   "mimetype": "text/x-python",
   "name": "python",
   "nbconvert_exporter": "python",
   "pygments_lexer": "ipython2",
   "version": "2.7.9"
  }
 },
 "nbformat": 4,
 "nbformat_minor": 2
}
