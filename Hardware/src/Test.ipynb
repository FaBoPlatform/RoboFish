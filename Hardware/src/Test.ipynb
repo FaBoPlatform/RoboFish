{
 "cells": [
  {
   "cell_type": "markdown",
   "metadata": {
    "deletable": true,
    "editable": true
   },
   "source": [
    "# 初期設定\n",
    "\n",
    "0x64がDRV8830で、0x68がMPU9250"
   ]
  },
  {
   "cell_type": "code",
   "execution_count": 2,
   "metadata": {
    "collapsed": false,
    "deletable": true,
    "editable": true
   },
   "outputs": [
    {
     "name": "stdout",
     "output_type": "stream",
     "text": [
      "     0  1  2  3  4  5  6  7  8  9  a  b  c  d  e  f\r\n",
      "00:          -- -- -- -- -- -- -- -- -- -- -- -- -- \r\n",
      "10: -- -- -- -- -- -- -- -- -- -- -- -- -- -- -- -- \r\n",
      "20: -- -- -- -- -- -- -- -- -- -- -- -- -- -- -- -- \r\n",
      "30: -- -- -- -- -- -- -- -- -- -- -- -- -- -- -- -- \r\n",
      "40: -- -- -- -- -- -- -- -- -- -- -- -- -- -- -- -- \r\n",
      "50: -- -- -- -- -- -- -- -- -- -- -- -- -- -- -- -- \r\n",
      "60: -- -- -- -- 64 -- -- -- 68 -- -- -- -- -- -- -- \r\n",
      "70: -- -- -- -- -- -- -- --                         \r\n"
     ]
    }
   ],
   "source": [
    "!sudo i2cdetect -y 1"
   ]
  },
  {
   "cell_type": "markdown",
   "metadata": {
    "deletable": true,
    "editable": true
   },
   "source": [
    "# TEST1\n",
    "正回転のテスト、1-100の正常値を引数として与えて実行。"
   ]
  },
  {
   "cell_type": "code",
   "execution_count": 1,
   "metadata": {
    "collapsed": false,
    "deletable": true,
    "editable": true
   },
   "outputs": [
    {
     "name": "stdout",
     "output_type": "stream",
     "text": [
      "init\n"
     ]
    }
   ],
   "source": [
    "import time\n",
    "import robofish\n",
    "reload(robofish)\n",
    "\n",
    "r = robofish.Robot()\n",
    "r.reel_stop()\n",
    "\n",
    "for i in range(1,100):\n",
    "    r.reel_forward(i)\n",
    "    time.sleep(0.1)\n",
    "\n",
    "r.reel_stop()"
   ]
  },
  {
   "cell_type": "markdown",
   "metadata": {
    "deletable": true,
    "editable": true
   },
   "source": [
    "# TEST2\n",
    "逆回転のテスト、1-100の正常値を引数として与えて実行。"
   ]
  },
  {
   "cell_type": "code",
   "execution_count": 3,
   "metadata": {
    "collapsed": false,
    "deletable": true,
    "editable": true
   },
   "outputs": [
    {
     "name": "stdout",
     "output_type": "stream",
     "text": [
      "init\n"
     ]
    },
    {
     "ename": "KeyboardInterrupt",
     "evalue": "",
     "output_type": "error",
     "traceback": [
      "\u001b[0;31m---------------------------------------------------------------------------\u001b[0m",
      "\u001b[0;31mKeyboardInterrupt\u001b[0m                         Traceback (most recent call last)",
      "\u001b[0;32m<ipython-input-3-72c5698807d4>\u001b[0m in \u001b[0;36m<module>\u001b[0;34m()\u001b[0m\n\u001b[1;32m      8\u001b[0m \u001b[0;32mfor\u001b[0m \u001b[0mi\u001b[0m \u001b[0;32min\u001b[0m \u001b[0mrange\u001b[0m\u001b[0;34m(\u001b[0m\u001b[0;36m1\u001b[0m\u001b[0;34m,\u001b[0m\u001b[0;36m100\u001b[0m\u001b[0;34m)\u001b[0m\u001b[0;34m:\u001b[0m\u001b[0;34m\u001b[0m\u001b[0m\n\u001b[1;32m      9\u001b[0m     \u001b[0mr\u001b[0m\u001b[0;34m.\u001b[0m\u001b[0mreel_back\u001b[0m\u001b[0;34m(\u001b[0m\u001b[0mi\u001b[0m\u001b[0;34m)\u001b[0m\u001b[0;34m\u001b[0m\u001b[0m\n\u001b[0;32m---> 10\u001b[0;31m     \u001b[0mtime\u001b[0m\u001b[0;34m.\u001b[0m\u001b[0msleep\u001b[0m\u001b[0;34m(\u001b[0m\u001b[0;36m0.1\u001b[0m\u001b[0;34m)\u001b[0m\u001b[0;34m\u001b[0m\u001b[0m\n\u001b[0m\u001b[1;32m     11\u001b[0m \u001b[0;34m\u001b[0m\u001b[0m\n\u001b[1;32m     12\u001b[0m \u001b[0mr\u001b[0m\u001b[0;34m.\u001b[0m\u001b[0mreel_stop\u001b[0m\u001b[0;34m(\u001b[0m\u001b[0;34m)\u001b[0m\u001b[0;34m\u001b[0m\u001b[0m\n",
      "\u001b[0;31mKeyboardInterrupt\u001b[0m: "
     ]
    }
   ],
   "source": [
    "import time\n",
    "import robofish\n",
    "reload(robofish)\n",
    "\n",
    "r = robofish.Robot()\n",
    "r.reel_stop()\n",
    "\n",
    "for i in range(1,100):\n",
    "    r.reel_back(i)\n",
    "    time.sleep(0.1)\n",
    "\n",
    "r.reel_stop()"
   ]
  },
  {
   "cell_type": "markdown",
   "metadata": {
    "deletable": true,
    "editable": true
   },
   "source": [
    "# TEST3\n",
    "ブレーキのテスト。3秒後に急停止。"
   ]
  },
  {
   "cell_type": "code",
   "execution_count": 9,
   "metadata": {
    "collapsed": false,
    "deletable": true,
    "editable": true
   },
   "outputs": [
    {
     "name": "stdout",
     "output_type": "stream",
     "text": [
      "init\n"
     ]
    }
   ],
   "source": [
    "import time\n",
    "import robofish\n",
    "reload(robofish)\n",
    "\n",
    "r = robofish.Robot()\n",
    "r.reel_stop()\n",
    "\n",
    "r.reel_forward(100)\n",
    "time.sleep(3)\n",
    "r.reel_stop()\n",
    "r.reel_brake()"
   ]
  },
  {
   "cell_type": "markdown",
   "metadata": {
    "deletable": true,
    "editable": true
   },
   "source": [
    "# TEST4\n",
    "\n",
    "カウンターのテスト。"
   ]
  },
  {
   "cell_type": "code",
   "execution_count": 10,
   "metadata": {
    "collapsed": false,
    "deletable": true,
    "editable": true
   },
   "outputs": [
    {
     "name": "stdout",
     "output_type": "stream",
     "text": [
      "init\n",
      "not is alive\n",
      "run\n",
      "\n",
      "-41\n"
     ]
    }
   ],
   "source": [
    "import time\n",
    "import robofish\n",
    "reload(robofish)\n",
    "\n",
    "r = robofish.Robot()\n",
    "r.refresh()\n",
    "\n",
    "if not r.is_alive():\n",
    "    print \"not is alive\"\n",
    "    r.start() \n",
    "\n",
    "r.reel_stop()\n",
    "\n",
    "for i in range(1,100):\n",
    "    r.reel_back(i)\n",
    "    time.sleep(0.1)\n",
    "\n",
    "r.reel_stop()\n",
    "r.reel_brake()\n",
    "r.flg = False\n",
    "print \"\"\n",
    "print r.get_reel_count()"
   ]
  },
  {
   "cell_type": "markdown",
   "metadata": {
    "deletable": true,
    "editable": true
   },
   "source": [
    "# TEST5\n",
    "\n",
    "釣り竿の制御"
   ]
  },
  {
   "cell_type": "code",
   "execution_count": 5,
   "metadata": {
    "collapsed": false,
    "deletable": true,
    "editable": true
   },
   "outputs": [
    {
     "name": "stdout",
     "output_type": "stream",
     "text": [
      "init\n",
      "0\n",
      "8.0\n",
      "9.0\n",
      "1\n",
      "8.0\n",
      "9.0\n",
      "2\n",
      "8.0\n",
      "9.0\n",
      "3\n",
      "8.0\n",
      "9.0\n",
      "4\n",
      "8.0\n",
      "9.0\n",
      "rod_stop\n"
     ]
    }
   ],
   "source": [
    "import robofish\n",
    "reload(robofish)\n",
    "import time\n",
    "\n",
    "r = robofish.Robot()\n",
    "r.refresh()\n",
    "\n",
    "try:\n",
    "    for i in range(5): #しゃくりを1~3回で行う   \n",
    "        print i\n",
    "        r.rod_move(110)\n",
    "        time.sleep(0.15) #サーボが上がるまで待機\n",
    "        r.rod_move(120)\n",
    "        time.sleep(1) #１回しゃくりをした後少し待機\n",
    "\n",
    "    r.rod_stop()\n",
    "except KeyboardInterrupt:\n",
    "     r.rod_stop()"
   ]
  },
  {
   "cell_type": "markdown",
   "metadata": {},
   "source": [
    "# TEST6\n",
    " \n",
    "リールの主導巻き上げ(カウンターなし)"
   ]
  },
  {
   "cell_type": "code",
   "execution_count": 4,
   "metadata": {
    "collapsed": false
   },
   "outputs": [
    {
     "name": "stdout",
     "output_type": "stream",
     "text": [
      "init\n"
     ]
    }
   ],
   "source": [
    "import robofish\n",
    "reload(robofish)\n",
    "import RPi.GPIO as GPIO\n",
    "import sys\n",
    "import time\n",
    "\n",
    "r = robofish.Robot()\n",
    "r.refresh()\n",
    "Up_BP=5\n",
    "Down_BP=6\n",
    "\n",
    "try:\n",
    "    while True:\n",
    "        if GPIO.input(Up_BP):\n",
    "            r.reel_forward(100)            \n",
    "        elif GPIO.input(Down_BP):\n",
    "            r.reel_back(100)\n",
    "        else:\n",
    "            r.reel_brake()\n",
    "        time.sleep(0.01)\n",
    "except KeyboardInterrupt:\n",
    "    r.flg = False"
   ]
  },
  {
   "cell_type": "markdown",
   "metadata": {
    "deletable": true,
    "editable": true
   },
   "source": [
    "## TEST6\n",
    "リールの手動巻き上げ(カウンター付き)"
   ]
  },
  {
   "cell_type": "code",
   "execution_count": 3,
   "metadata": {
    "collapsed": false,
    "deletable": true,
    "editable": true
   },
   "outputs": [
    {
     "name": "stdout",
     "output_type": "stream",
     "text": [
      "initrun\n",
      "\n",
      "depth = 326.000000 mmm"
     ]
    }
   ],
   "source": [
    "import robofish\n",
    "reload(robofish)\n",
    "import RPi.GPIO as GPIO\n",
    "import sys\n",
    "import time\n",
    "\n",
    "r = robofish.Robot()\n",
    "r.refresh()\n",
    "r.start()\n",
    "Up_BP=5\n",
    "Down_BP=6\n",
    "\n",
    "GPIO.setmode(GPIO.BCM)\n",
    "GPIO.setup(Up_BP, GPIO.IN)\n",
    "GPIO.setup(Down_BP, GPIO.IN)\n",
    "depth = 0\n",
    "counter = 0\n",
    "CIRCLE_LENGTH = 163\n",
    "\n",
    "try:\n",
    "    while True:\n",
    "        if GPIO.input(Up_BP):\n",
    "            r.reel_forward(100)\n",
    "            depth = r.get_reel_count() * CIRCLE_LENGTH\n",
    "            \n",
    "        elif GPIO.input(Down_BP):\n",
    "            r.reel_back(100)\n",
    "            depth = r.get_reel_count() * CIRCLE_LENGTH\n",
    "        else:\n",
    "            r.reel_brake()\n",
    "        time.sleep(0.01)\n",
    "        \n",
    "        sys.stdout.write(\"\\rdepth = %f mm\" % depth)\n",
    "        sys.stdout.flush()\n",
    "except KeyboardInterrupt:\n",
    "    r.flg = False"
   ]
  },
  {
   "cell_type": "code",
   "execution_count": null,
   "metadata": {
    "collapsed": true,
    "deletable": true,
    "editable": true
   },
   "outputs": [],
   "source": []
  }
 ],
 "metadata": {
  "kernelspec": {
   "display_name": "Python 2",
   "language": "python",
   "name": "python2"
  },
  "language_info": {
   "codemirror_mode": {
    "name": "ipython",
    "version": 2
   },
   "file_extension": ".py",
   "mimetype": "text/x-python",
   "name": "python",
   "nbconvert_exporter": "python",
   "pygments_lexer": "ipython2",
   "version": "2.7.9"
  }
 },
 "nbformat": 4,
 "nbformat_minor": 2
}
